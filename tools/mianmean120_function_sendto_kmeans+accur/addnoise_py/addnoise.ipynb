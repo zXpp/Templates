{
 "cells": [
  {
   "cell_type": "code",
   "execution_count": 1,
   "metadata": {
    "collapsed": true
   },
   "outputs": [],
   "source": [
    "import librosa"
   ]
  },
  {
   "cell_type": "code",
   "execution_count": 75,
   "metadata": {},
   "outputs": [],
   "source": [
    "import librosa\n",
    "#输入参数\n",
    "sigwav=\"/media/zzpp220/Data/Linux_Documents/Mobile/zx_mobile_test/noise/Apple_Iphone5S-W_EngL_050.wav\"\n",
    "noisewav=\"/media/zzpp220/Data/Linux_Documents/Mobile/zx_mobile_test/noise/cutWhite16.wav\"\n",
    "snr=10#db\n",
    "#加载信号、噪声，使之有共同长度\n",
    "sig,sr = librosa.load(sigwav,sr=None,mono=None)\n",
    "noise,_ =librosa.load(noisewav,sr=None,mono=None)\n",
    "legth=min(len(sig),len(noise))\n",
    "sig,noise=sig[:legth],noise[:legth]\n",
    "#import IPython.display \n",
    "#cc=IPython.display.Audio(sig,rate=sr,autoplay=True)\n",
    "#librosa.samples_to_frames(sig,)\n",
    "\n",
    "#计算计算信号、噪声的功率\n",
    "import numpy as np\n",
    "sigPower,noisePower = np.sum(sig**2)/legth,np.sum(noise**2)/legth\n",
    "m=10**(snr/10.0)#信号与噪声的功率比\n",
    "a=(sigPower/(noisePower*m))**0.5 #计算满足给定信噪比的噪声信号的放大系数\n",
    "renoise=a*noise#得到符合指定信噪比要求的噪声信号\n",
    "\n",
    "#得到加躁后的语音\n",
    "nSig=sig[:]+renoise #以单声道的方式（加性白噪声），不管输入是单声道还是双声道的方式\n",
    "\n",
    "#对加躁信号提取mfcc特征\n",
    "M=librosa.feature.mfcc(nSig,sr,S=None, n_mfcc=13,hop_length=int(0.01*sr)+1,htk=True,n_mels=24).T    "
   ]
  },
  {
   "cell_type": "code",
   "execution_count": 78,
   "metadata": {},
   "outputs": [
    {
     "data": {
      "text/plain": [
       "(array([[-18.81458463,  25.72886974,  19.78050026, ...,  -2.05728836,\n          -1.32699052,  -1.30190612],\n        [-19.06888979,  25.25861596,  19.54120512, ...,  -2.06826078,\n          -1.40639786,  -1.40158215],\n        [-20.00345759,  23.78899418,  18.88311167, ...,  -2.10731692,\n          -1.63814081,  -1.63756596],\n        ..., \n        [-41.2548112 ,  -0.77985556,   0.06316285, ...,  -0.15984513,\n           0.90991311,   0.09327512],\n        [-41.53222472,  -0.53852995,  -0.31316666, ...,  -0.27047259,\n           0.79528898,   0.55632404],\n        [-41.63320863,  -0.41013657,  -0.44817289, ...,  -0.3669992 ,\n           0.67059548,   0.67486562]]), (497, 13), numpy.ndarray)"
      ]
     },
     "execution_count": 78,
     "metadata": {},
     "output_type": "execute_result"
    }
   ],
   "source": [
    "M,M.shape,type(M)"
   ]
  },
  {
   "cell_type": "code",
   "execution_count": 80,
   "metadata": {},
   "outputs": [
    {
     "data": {
      "text/plain": [
       "32767"
      ]
     },
     "execution_count": 80,
     "metadata": {},
     "output_type": "execute_result"
    }
   ],
   "source": [
    "m=np.iinfo(np.int16).max\n",
    "m"
   ]
  },
  {
   "cell_type": "code",
   "execution_count": null,
   "metadata": {},
   "outputs": [],
   "source": []
  }
 ],
 "metadata": {
  "kernelspec": {
   "display_name": "Python 2",
   "language": "python",
   "name": "python2"
  },
  "language_info": {
   "codemirror_mode": {
    "name": "ipython",
    "version": 2
   },
   "file_extension": ".py",
   "mimetype": "text/x-python",
   "name": "python",
   "nbconvert_exporter": "python",
   "pygments_lexer": "ipython2",
   "version": "2.7.6"
  }
 },
 "nbformat": 4,
 "nbformat_minor": 0
}
